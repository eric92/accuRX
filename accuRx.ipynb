{
 "cells": [
  {
   "cell_type": "code",
   "execution_count": 6,
   "metadata": {},
   "outputs": [
    {
     "name": "stdout",
     "output_type": "stream",
     "text": [
      "Populating the interactive namespace from numpy and matplotlib\n"
     ]
    },
    {
     "name": "stderr",
     "output_type": "stream",
     "text": [
      "/Users/JB/opt/anaconda3/lib/python3.7/site-packages/IPython/core/magics/pylab.py:160: UserWarning: pylab import has clobbered these variables: ['re']\n",
      "`%matplotlib` prevents importing * from pylab and numpy\n",
      "  \"\\n`%matplotlib` prevents importing * from pylab and numpy\"\n"
     ]
    }
   ],
   "source": [
    "import pandas as pd\n",
    "%pylab inline\n",
    "import seaborn as sns\n",
    "import regex as re\n",
    "import plotly.express as px\n",
    "from IPython.display import Image"
   ]
  },
  {
   "cell_type": "markdown",
   "metadata": {},
   "source": [
    "# Read the file & its the tabs"
   ]
  },
  {
   "cell_type": "markdown",
   "metadata": {},
   "source": [
    "We have 3 importants sheets for this exercise:\n",
    "\n",
    "- `All practices`\n",
    "- `Target practice postocde`\n",
    "- `Usage by practice`\n",
    "\n",
    "Each of these tab will be read into dataframe\n",
    "\n",
    "- df_pract for `All practice`\n",
    "- df_targ for `Target practice postcodes`\n",
    "- df_usge for `Usage by practice`\n",
    "\n",
    "Let' go!\n",
    "\n"
   ]
  },
  {
   "cell_type": "code",
   "execution_count": 2,
   "metadata": {},
   "outputs": [
    {
     "data": {
      "text/html": [
       "<div>\n",
       "<style scoped>\n",
       "    .dataframe tbody tr th:only-of-type {\n",
       "        vertical-align: middle;\n",
       "    }\n",
       "\n",
       "    .dataframe tbody tr th {\n",
       "        vertical-align: top;\n",
       "    }\n",
       "\n",
       "    .dataframe thead th {\n",
       "        text-align: right;\n",
       "    }\n",
       "</style>\n",
       "<table border=\"1\" class=\"dataframe\">\n",
       "  <thead>\n",
       "    <tr style=\"text-align: right;\">\n",
       "      <th></th>\n",
       "      <th>Address</th>\n",
       "      <th>accuRx_id</th>\n",
       "    </tr>\n",
       "  </thead>\n",
       "  <tbody>\n",
       "    <tr>\n",
       "      <th>0</th>\n",
       "      <td>Manor Surgery, Osler Road, Oxford, OX3 9BP</td>\n",
       "      <td>1</td>\n",
       "    </tr>\n",
       "    <tr>\n",
       "      <th>1</th>\n",
       "      <td>Hollow Way Medical Centre, 18 Ivy Close, Oxfor...</td>\n",
       "      <td>2</td>\n",
       "    </tr>\n",
       "    <tr>\n",
       "      <th>2</th>\n",
       "      <td>114 High Road, London, N15 6JR</td>\n",
       "      <td>3</td>\n",
       "    </tr>\n",
       "  </tbody>\n",
       "</table>\n",
       "</div>"
      ],
      "text/plain": [
       "                                             Address  accuRx_id\n",
       "0         Manor Surgery, Osler Road, Oxford, OX3 9BP          1\n",
       "1  Hollow Way Medical Centre, 18 Ivy Close, Oxfor...          2\n",
       "2                     114 High Road, London, N15 6JR          3"
      ]
     },
     "execution_count": 2,
     "metadata": {},
     "output_type": "execute_result"
    }
   ],
   "source": [
    "# read all practices tab\n",
    "df_pract=pd.read_excel('Customer Success Analyst task.xlsx', sheet_name='All practices')\n",
    "# let's have a look now\n",
    "df_pract.head(3)"
   ]
  },
  {
   "cell_type": "code",
   "execution_count": 3,
   "metadata": {},
   "outputs": [
    {
     "data": {
      "text/html": [
       "<div>\n",
       "<style scoped>\n",
       "    .dataframe tbody tr th:only-of-type {\n",
       "        vertical-align: middle;\n",
       "    }\n",
       "\n",
       "    .dataframe tbody tr th {\n",
       "        vertical-align: top;\n",
       "    }\n",
       "\n",
       "    .dataframe thead th {\n",
       "        text-align: right;\n",
       "    }\n",
       "</style>\n",
       "<table border=\"1\" class=\"dataframe\">\n",
       "  <thead>\n",
       "    <tr style=\"text-align: right;\">\n",
       "      <th></th>\n",
       "      <th>Postcode</th>\n",
       "    </tr>\n",
       "  </thead>\n",
       "  <tbody>\n",
       "    <tr>\n",
       "      <th>0</th>\n",
       "      <td>WN3 6PR</td>\n",
       "    </tr>\n",
       "    <tr>\n",
       "      <th>1</th>\n",
       "      <td>WS1 1YB</td>\n",
       "    </tr>\n",
       "    <tr>\n",
       "      <th>2</th>\n",
       "      <td>WD19 7SF</td>\n",
       "    </tr>\n",
       "  </tbody>\n",
       "</table>\n",
       "</div>"
      ],
      "text/plain": [
       "   Postcode\n",
       "0   WN3 6PR\n",
       "1   WS1 1YB\n",
       "2  WD19 7SF"
      ]
     },
     "execution_count": 3,
     "metadata": {},
     "output_type": "execute_result"
    }
   ],
   "source": [
    "df_targ=pd.read_excel('Customer Success Analyst task.xlsx', sheet_name='Target practice postcodes')\n",
    "df_usge=pd.read_excel('Customer Success Analyst task.xlsx', sheet_name='Usage by practice')\n",
    "df_targ.head(3) # look at the first 3 rows"
   ]
  },
  {
   "cell_type": "markdown",
   "metadata": {},
   "source": [
    "# TASK STRATEGY"
   ]
  },
  {
   "cell_type": "markdown",
   "metadata": {},
   "source": [
    "- Retrieve the postcode from address column\n",
    "- Perform a join `(inner join)` between the All practices paractice and the postode.\n",
    "- then perform a last another join  linking the previous results to the Usage by practice tab using the accuRX column as a look up reference to the number messages sent last week.<br><br>\n",
    "\n",
    "Estimated time 5mn. ![title](smiley.jpg)"
   ]
  },
  {
   "cell_type": "markdown",
   "metadata": {},
   "source": [
    "### Postcode extraction"
   ]
  },
  {
   "cell_type": "code",
   "execution_count": 7,
   "metadata": {},
   "outputs": [],
   "source": [
    "postecode_pattern= r'([A-Za-z]{1,2}[0-9Rr][0-9A-Za-z]? [0-9][ABD-HJLNP-UW-Zabd-hjlnp-uw-z]{2})'\n",
    "extract_column= df_pract.columns.get_loc('Address')"
   ]
  },
  {
   "cell_type": "code",
   "execution_count": 8,
   "metadata": {},
   "outputs": [],
   "source": [
    "df_pract['Postcode']=df_pract['Address'].str.extract(postecode_pattern)"
   ]
  },
  {
   "cell_type": "code",
   "execution_count": 9,
   "metadata": {},
   "outputs": [],
   "source": [
    "##Inner Join\n",
    "answer= df_pract.merge(df_targ, on='Postcode', how= 'inner').merge(df_usge, on='accuRx_id', how='left')\n",
    "df=answer.copy()"
   ]
  },
  {
   "cell_type": "code",
   "execution_count": 22,
   "metadata": {},
   "outputs": [
    {
     "name": "stdout",
     "output_type": "stream",
     "text": [
      "The number of messages sent last week y the 20 target practices is:  9736.0\n"
     ]
    }
   ],
   "source": [
    "print('The number of messages sent last week y the 20 target practices is: ',answer['Messages sent last week'].sum())"
   ]
  },
  {
   "cell_type": "markdown",
   "metadata": {},
   "source": [
    "# Done   ![title](done.png)  <br>  Look at your answer below. \n"
   ]
  },
  {
   "cell_type": "code",
   "execution_count": 10,
   "metadata": {},
   "outputs": [
    {
     "data": {
      "text/html": [
       "<div>\n",
       "<style scoped>\n",
       "    .dataframe tbody tr th:only-of-type {\n",
       "        vertical-align: middle;\n",
       "    }\n",
       "\n",
       "    .dataframe tbody tr th {\n",
       "        vertical-align: top;\n",
       "    }\n",
       "\n",
       "    .dataframe thead th {\n",
       "        text-align: right;\n",
       "    }\n",
       "</style>\n",
       "<table border=\"1\" class=\"dataframe\">\n",
       "  <thead>\n",
       "    <tr style=\"text-align: right;\">\n",
       "      <th></th>\n",
       "      <th>Address</th>\n",
       "      <th>accuRx_id</th>\n",
       "      <th>Postcode</th>\n",
       "      <th>Messages sent last week</th>\n",
       "    </tr>\n",
       "  </thead>\n",
       "  <tbody>\n",
       "    <tr>\n",
       "      <th>0</th>\n",
       "      <td>Fulford Grange, Micklefield Lane, Rawdon, Leed...</td>\n",
       "      <td>28</td>\n",
       "      <td>LS19 6BA</td>\n",
       "      <td>NaN</td>\n",
       "    </tr>\n",
       "    <tr>\n",
       "      <th>1</th>\n",
       "      <td>Fulford Grange, Micklefield Lane, Rawdon, Leed...</td>\n",
       "      <td>32</td>\n",
       "      <td>LS19 6BA</td>\n",
       "      <td>NaN</td>\n",
       "    </tr>\n",
       "    <tr>\n",
       "      <th>2</th>\n",
       "      <td>Hazeley Road, Twyford, Winchester, SO21 1QY</td>\n",
       "      <td>90</td>\n",
       "      <td>SO21 1QY</td>\n",
       "      <td>786.0</td>\n",
       "    </tr>\n",
       "    <tr>\n",
       "      <th>3</th>\n",
       "      <td>Bevan House, 17 Beecham Court, Smithy Brook Ro...</td>\n",
       "      <td>94</td>\n",
       "      <td>WN3 6PR</td>\n",
       "      <td>44.0</td>\n",
       "    </tr>\n",
       "    <tr>\n",
       "      <th>4</th>\n",
       "      <td>Winchester, SO21 3LE</td>\n",
       "      <td>128</td>\n",
       "      <td>SO21 3LE</td>\n",
       "      <td>1168.0</td>\n",
       "    </tr>\n",
       "    <tr>\n",
       "      <th>5</th>\n",
       "      <td>Oxhey Drive, Watford, WD19 7SF</td>\n",
       "      <td>138</td>\n",
       "      <td>WD19 7SF</td>\n",
       "      <td>194.0</td>\n",
       "    </tr>\n",
       "    <tr>\n",
       "      <th>6</th>\n",
       "      <td>2 Winchester Mews, NW3 3NP</td>\n",
       "      <td>139</td>\n",
       "      <td>NW3 3NP</td>\n",
       "      <td>991.0</td>\n",
       "    </tr>\n",
       "    <tr>\n",
       "      <th>7</th>\n",
       "      <td>Cogges Surgery, 12 Cogges Hill Road, Witney, O...</td>\n",
       "      <td>148</td>\n",
       "      <td>OX28 3FS</td>\n",
       "      <td>282.0</td>\n",
       "    </tr>\n",
       "    <tr>\n",
       "      <th>8</th>\n",
       "      <td>6 Cunningham Way, Watford, WD25 7NL</td>\n",
       "      <td>238</td>\n",
       "      <td>WD25 7NL</td>\n",
       "      <td>503.0</td>\n",
       "    </tr>\n",
       "    <tr>\n",
       "      <th>9</th>\n",
       "      <td>Sir John Kirk Close Surgery, 3 Sir John Kirk C...</td>\n",
       "      <td>257</td>\n",
       "      <td>SE5 0BB</td>\n",
       "      <td>NaN</td>\n",
       "    </tr>\n",
       "    <tr>\n",
       "      <th>10</th>\n",
       "      <td>Great Bentley Surgery, The Hollies, The Green,...</td>\n",
       "      <td>273</td>\n",
       "      <td>CO7 8PJ</td>\n",
       "      <td>226.0</td>\n",
       "    </tr>\n",
       "    <tr>\n",
       "      <th>11</th>\n",
       "      <td>20 Gower Street, London, WC1E 6DP</td>\n",
       "      <td>300</td>\n",
       "      <td>WC1E 6DP</td>\n",
       "      <td>201.0</td>\n",
       "    </tr>\n",
       "    <tr>\n",
       "      <th>12</th>\n",
       "      <td>Aylesbury Road, HP22 6LD</td>\n",
       "      <td>311</td>\n",
       "      <td>HP22 6LD</td>\n",
       "      <td>1501.0</td>\n",
       "    </tr>\n",
       "    <tr>\n",
       "      <th>13</th>\n",
       "      <td>Wembley Park Drive Medical Centre, 21 Wembley ...</td>\n",
       "      <td>312</td>\n",
       "      <td>HA9 8HD</td>\n",
       "      <td>1295.0</td>\n",
       "    </tr>\n",
       "    <tr>\n",
       "      <th>14</th>\n",
       "      <td>133 Hatherton Street, Walsall, WS1 1YB</td>\n",
       "      <td>351</td>\n",
       "      <td>WS1 1YB</td>\n",
       "      <td>183.0</td>\n",
       "    </tr>\n",
       "    <tr>\n",
       "      <th>15</th>\n",
       "      <td>Colne House, First Floor, 21 Upton Road, Watfo...</td>\n",
       "      <td>363</td>\n",
       "      <td>WD18 0JP</td>\n",
       "      <td>NaN</td>\n",
       "    </tr>\n",
       "    <tr>\n",
       "      <th>16</th>\n",
       "      <td>13 Clarence Road East, Weston-Super-Mare, BS23...</td>\n",
       "      <td>370</td>\n",
       "      <td>BS23 4BP</td>\n",
       "      <td>NaN</td>\n",
       "    </tr>\n",
       "    <tr>\n",
       "      <th>17</th>\n",
       "      <td>50 Park Road, N8 8SU</td>\n",
       "      <td>401</td>\n",
       "      <td>N8 8SU</td>\n",
       "      <td>380.0</td>\n",
       "    </tr>\n",
       "    <tr>\n",
       "      <th>18</th>\n",
       "      <td>130 Broadway, Davyhulme,urmston, Manchester, M...</td>\n",
       "      <td>440</td>\n",
       "      <td>M41 7WJ</td>\n",
       "      <td>402.0</td>\n",
       "    </tr>\n",
       "    <tr>\n",
       "      <th>19</th>\n",
       "      <td>Hillview Medical Centre, 3 Heathside Road, Wok...</td>\n",
       "      <td>452</td>\n",
       "      <td>GU22 7QP</td>\n",
       "      <td>484.0</td>\n",
       "    </tr>\n",
       "    <tr>\n",
       "      <th>20</th>\n",
       "      <td>Edgeway, Island Way West, St. Marys Island, Ch...</td>\n",
       "      <td>489</td>\n",
       "      <td>ME4 3EP</td>\n",
       "      <td>1096.0</td>\n",
       "    </tr>\n",
       "  </tbody>\n",
       "</table>\n",
       "</div>"
      ],
      "text/plain": [
       "                                              Address  accuRx_id  Postcode  \\\n",
       "0   Fulford Grange, Micklefield Lane, Rawdon, Leed...         28  LS19 6BA   \n",
       "1   Fulford Grange, Micklefield Lane, Rawdon, Leed...         32  LS19 6BA   \n",
       "2         Hazeley Road, Twyford, Winchester, SO21 1QY         90  SO21 1QY   \n",
       "3   Bevan House, 17 Beecham Court, Smithy Brook Ro...         94   WN3 6PR   \n",
       "4                                Winchester, SO21 3LE        128  SO21 3LE   \n",
       "5                      Oxhey Drive, Watford, WD19 7SF        138  WD19 7SF   \n",
       "6                          2 Winchester Mews, NW3 3NP        139   NW3 3NP   \n",
       "7   Cogges Surgery, 12 Cogges Hill Road, Witney, O...        148  OX28 3FS   \n",
       "8                 6 Cunningham Way, Watford, WD25 7NL        238  WD25 7NL   \n",
       "9   Sir John Kirk Close Surgery, 3 Sir John Kirk C...        257   SE5 0BB   \n",
       "10  Great Bentley Surgery, The Hollies, The Green,...        273   CO7 8PJ   \n",
       "11                  20 Gower Street, London, WC1E 6DP        300  WC1E 6DP   \n",
       "12                           Aylesbury Road, HP22 6LD        311  HP22 6LD   \n",
       "13  Wembley Park Drive Medical Centre, 21 Wembley ...        312   HA9 8HD   \n",
       "14             133 Hatherton Street, Walsall, WS1 1YB        351   WS1 1YB   \n",
       "15  Colne House, First Floor, 21 Upton Road, Watfo...        363  WD18 0JP   \n",
       "16  13 Clarence Road East, Weston-Super-Mare, BS23...        370  BS23 4BP   \n",
       "17                               50 Park Road, N8 8SU        401    N8 8SU   \n",
       "18  130 Broadway, Davyhulme,urmston, Manchester, M...        440   M41 7WJ   \n",
       "19  Hillview Medical Centre, 3 Heathside Road, Wok...        452  GU22 7QP   \n",
       "20  Edgeway, Island Way West, St. Marys Island, Ch...        489   ME4 3EP   \n",
       "\n",
       "    Messages sent last week  \n",
       "0                       NaN  \n",
       "1                       NaN  \n",
       "2                     786.0  \n",
       "3                      44.0  \n",
       "4                    1168.0  \n",
       "5                     194.0  \n",
       "6                     991.0  \n",
       "7                     282.0  \n",
       "8                     503.0  \n",
       "9                       NaN  \n",
       "10                    226.0  \n",
       "11                    201.0  \n",
       "12                   1501.0  \n",
       "13                   1295.0  \n",
       "14                    183.0  \n",
       "15                      NaN  \n",
       "16                      NaN  \n",
       "17                    380.0  \n",
       "18                    402.0  \n",
       "19                    484.0  \n",
       "20                   1096.0  "
      ]
     },
     "execution_count": 10,
     "metadata": {},
     "output_type": "execute_result"
    }
   ],
   "source": [
    "# Here is your answer\n",
    "answer"
   ]
  },
  {
   "cell_type": "markdown",
   "metadata": {},
   "source": [
    "# EXTRA: CLEANING JUST FOR YOU :)"
   ]
  },
  {
   "cell_type": "code",
   "execution_count": 11,
   "metadata": {},
   "outputs": [],
   "source": [
    "df['address']=df_pract['Address'].str.replace(postecode_pattern,'')# creatin a new adress column\n",
    "df.drop('Address',1, inplace=True ) # dropping the old address columns\n",
    "df=df[['accuRx_id','address', 'Postcode', 'Messages sent last week']] # re-ordering the order of the columns"
   ]
  },
  {
   "cell_type": "code",
   "execution_count": 12,
   "metadata": {},
   "outputs": [],
   "source": [
    "df['address']=df.address.str.strip().str[:-1] # removing the last comma"
   ]
  },
  {
   "cell_type": "code",
   "execution_count": 13,
   "metadata": {},
   "outputs": [],
   "source": [
    "df['City']=df.address.str.split().str[-1] # getting the city"
   ]
  },
  {
   "cell_type": "code",
   "execution_count": 14,
   "metadata": {},
   "outputs": [],
   "source": [
    "df['address']=df.address.str.split(',').str[:-1].str.join(',')"
   ]
  },
  {
   "cell_type": "code",
   "execution_count": 15,
   "metadata": {},
   "outputs": [],
   "source": [
    "# mask\n",
    "mask=df['address'].str.split(',').str.len().eq(1)\n",
    "df.loc[mask,'address']='No Name, '+df.loc[mask,'address']\n",
    "df.loc[12, 'address']='Muswell Hill, 1 Dukes Avenue' # reverse this, you will see why"
   ]
  },
  {
   "cell_type": "code",
   "execution_count": 16,
   "metadata": {},
   "outputs": [],
   "source": [
    "df['Practice Name']=df.address.str.split(',').str[0]\n",
    "df['Address']=df.address.str.split(',').str[1]\n",
    "df.drop('address', 1,inplace=True )"
   ]
  },
  {
   "cell_type": "code",
   "execution_count": 17,
   "metadata": {},
   "outputs": [],
   "source": [
    "df=df[['accuRx_id','Practice Name','Address','Postcode','Messages sent last week', 'City']]# re-odring columns"
   ]
  },
  {
   "cell_type": "code",
   "execution_count": 18,
   "metadata": {},
   "outputs": [
    {
     "data": {
      "text/html": [
       "<div>\n",
       "<style scoped>\n",
       "    .dataframe tbody tr th:only-of-type {\n",
       "        vertical-align: middle;\n",
       "    }\n",
       "\n",
       "    .dataframe tbody tr th {\n",
       "        vertical-align: top;\n",
       "    }\n",
       "\n",
       "    .dataframe thead th {\n",
       "        text-align: right;\n",
       "    }\n",
       "</style>\n",
       "<table border=\"1\" class=\"dataframe\">\n",
       "  <thead>\n",
       "    <tr style=\"text-align: right;\">\n",
       "      <th></th>\n",
       "      <th>accuRx_id</th>\n",
       "      <th>Practice Name</th>\n",
       "      <th>Address</th>\n",
       "      <th>Postcode</th>\n",
       "      <th>Messages sent last week</th>\n",
       "      <th>City</th>\n",
       "    </tr>\n",
       "  </thead>\n",
       "  <tbody>\n",
       "    <tr>\n",
       "      <th>12</th>\n",
       "      <td>311</td>\n",
       "      <td>Muswell Hill</td>\n",
       "      <td>1 Dukes Avenue</td>\n",
       "      <td>HP22 6LD</td>\n",
       "      <td>1501.0</td>\n",
       "      <td>London</td>\n",
       "    </tr>\n",
       "    <tr>\n",
       "      <th>13</th>\n",
       "      <td>312</td>\n",
       "      <td>No Name</td>\n",
       "      <td>Gordon Road</td>\n",
       "      <td>HA9 8HD</td>\n",
       "      <td>1295.0</td>\n",
       "      <td>London</td>\n",
       "    </tr>\n",
       "    <tr>\n",
       "      <th>4</th>\n",
       "      <td>128</td>\n",
       "      <td>Botley Medical Centre</td>\n",
       "      <td>Elms Road</td>\n",
       "      <td>SO21 3LE</td>\n",
       "      <td>1168.0</td>\n",
       "      <td>Oxford</td>\n",
       "    </tr>\n",
       "    <tr>\n",
       "      <th>20</th>\n",
       "      <td>489</td>\n",
       "      <td>Fulford Grange</td>\n",
       "      <td>Micklefield Lane</td>\n",
       "      <td>ME4 3EP</td>\n",
       "      <td>1096.0</td>\n",
       "      <td>Leeds</td>\n",
       "    </tr>\n",
       "    <tr>\n",
       "      <th>6</th>\n",
       "      <td>139</td>\n",
       "      <td>Temple Cowley Health Centre</td>\n",
       "      <td>Temple Road</td>\n",
       "      <td>NW3 3NP</td>\n",
       "      <td>991.0</td>\n",
       "      <td>Oxford</td>\n",
       "    </tr>\n",
       "  </tbody>\n",
       "</table>\n",
       "</div>"
      ],
      "text/plain": [
       "    accuRx_id                Practice Name            Address  Postcode  \\\n",
       "12        311                 Muswell Hill     1 Dukes Avenue  HP22 6LD   \n",
       "13        312                      No Name        Gordon Road   HA9 8HD   \n",
       "4         128        Botley Medical Centre          Elms Road  SO21 3LE   \n",
       "20        489               Fulford Grange   Micklefield Lane   ME4 3EP   \n",
       "6         139  Temple Cowley Health Centre        Temple Road   NW3 3NP   \n",
       "\n",
       "    Messages sent last week    City  \n",
       "12                   1501.0  London  \n",
       "13                   1295.0  London  \n",
       "4                    1168.0  Oxford  \n",
       "20                   1096.0   Leeds  \n",
       "6                     991.0  Oxford  "
      ]
     },
     "execution_count": 18,
     "metadata": {},
     "output_type": "execute_result"
    }
   ],
   "source": [
    "df.sort_values(by=['Messages sent last week'], ascending=False, inplace=True) # sorting the message sent column\n",
    "df.head()# this how your dataframe look like"
   ]
  },
  {
   "cell_type": "code",
   "execution_count": 20,
   "metadata": {},
   "outputs": [
    {
     "data": {
      "text/plain": [
       "9736.0"
      ]
     },
     "execution_count": 20,
     "metadata": {},
     "output_type": "execute_result"
    }
   ],
   "source": [
    "df['Messages sent last week'].sum()"
   ]
  },
  {
   "cell_type": "code",
   "execution_count": null,
   "metadata": {},
   "outputs": [],
   "source": [
    "# your csv file CLEANED \n",
    "#df.to_csv('Your_refined_csv')"
   ]
  }
 ],
 "metadata": {
  "kernelspec": {
   "display_name": "Python 3",
   "language": "python",
   "name": "python3"
  },
  "language_info": {
   "codemirror_mode": {
    "name": "ipython",
    "version": 3
   },
   "file_extension": ".py",
   "mimetype": "text/x-python",
   "name": "python",
   "nbconvert_exporter": "python",
   "pygments_lexer": "ipython3",
   "version": "3.7.5"
  }
 },
 "nbformat": 4,
 "nbformat_minor": 4
}
